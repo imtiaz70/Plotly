{
 "cells": [
  {
   "cell_type": "markdown",
   "metadata": {},
   "source": [
    "## Specifying Data in Altair\n"
   ]
  },
  {
   "cell_type": "code",
   "execution_count": 2,
   "metadata": {},
   "outputs": [
    {
     "data": {
      "text/html": [
       "\n",
       "<div id=\"altair-viz-5a50450521d849cf8bc7aca8d2fc1b61\"></div>\n",
       "<script type=\"text/javascript\">\n",
       "  (function(spec, embedOpt){\n",
       "    let outputDiv = document.currentScript.previousElementSibling;\n",
       "    if (outputDiv.id !== \"altair-viz-5a50450521d849cf8bc7aca8d2fc1b61\") {\n",
       "      outputDiv = document.getElementById(\"altair-viz-5a50450521d849cf8bc7aca8d2fc1b61\");\n",
       "    }\n",
       "    const paths = {\n",
       "      \"vega\": \"https://cdn.jsdelivr.net/npm//vega@5?noext\",\n",
       "      \"vega-lib\": \"https://cdn.jsdelivr.net/npm//vega-lib?noext\",\n",
       "      \"vega-lite\": \"https://cdn.jsdelivr.net/npm//vega-lite@4.8.1?noext\",\n",
       "      \"vega-embed\": \"https://cdn.jsdelivr.net/npm//vega-embed@6?noext\",\n",
       "    };\n",
       "\n",
       "    function loadScript(lib) {\n",
       "      return new Promise(function(resolve, reject) {\n",
       "        var s = document.createElement('script');\n",
       "        s.src = paths[lib];\n",
       "        s.async = true;\n",
       "        s.onload = () => resolve(paths[lib]);\n",
       "        s.onerror = () => reject(`Error loading script: ${paths[lib]}`);\n",
       "        document.getElementsByTagName(\"head\")[0].appendChild(s);\n",
       "      });\n",
       "    }\n",
       "\n",
       "    function showError(err) {\n",
       "      outputDiv.innerHTML = `<div class=\"error\" style=\"color:red;\">${err}</div>`;\n",
       "      throw err;\n",
       "    }\n",
       "\n",
       "    function displayChart(vegaEmbed) {\n",
       "      vegaEmbed(outputDiv, spec, embedOpt)\n",
       "        .catch(err => showError(`Javascript Error: ${err.message}<br>This usually means there's a typo in your chart specification. See the javascript console for the full traceback.`));\n",
       "    }\n",
       "\n",
       "    if(typeof define === \"function\" && define.amd) {\n",
       "      requirejs.config({paths});\n",
       "      require([\"vega-embed\"], displayChart, err => showError(`Error loading script: ${err.message}`));\n",
       "    } else if (typeof vegaEmbed === \"function\") {\n",
       "      displayChart(vegaEmbed);\n",
       "    } else {\n",
       "      loadScript(\"vega\")\n",
       "        .then(() => loadScript(\"vega-lite\"))\n",
       "        .then(() => loadScript(\"vega-embed\"))\n",
       "        .catch(showError)\n",
       "        .then(() => displayChart(vegaEmbed));\n",
       "    }\n",
       "  })({\"config\": {\"view\": {\"continuousWidth\": 400, \"continuousHeight\": 300}}, \"data\": {\"name\": \"data-865b0f7f64bff0a4a97037244e6476d1\"}, \"mark\": \"bar\", \"encoding\": {\"x\": {\"type\": \"nominal\", \"field\": \"x\"}, \"y\": {\"type\": \"quantitative\", \"field\": \"y\"}}, \"$schema\": \"https://vega.github.io/schema/vega-lite/v4.8.1.json\", \"datasets\": {\"data-865b0f7f64bff0a4a97037244e6476d1\": [{\"x\": \"A\", \"y\": 5}, {\"x\": \"B\", \"y\": 3}, {\"x\": \"C\", \"y\": 6}, {\"x\": \"D\", \"y\": 7}, {\"x\": \"E\", \"y\": 2}]}}, {\"mode\": \"vega-lite\"});\n",
       "</script>"
      ],
      "text/plain": [
       "alt.Chart(...)"
      ]
     },
     "execution_count": 2,
     "metadata": {},
     "output_type": "execute_result"
    }
   ],
   "source": [
    "import altair as alt\n",
    "import pandas as pd\n",
    "\n",
    "data = pd.DataFrame({'x': ['A', 'B', 'C', 'D', 'E'],\n",
    "                     'y': [5, 3, 6, 7, 2]})\n",
    "alt.Chart(data).mark_bar().encode(\n",
    "    x='x',\n",
    "    y='y',\n",
    ")"
   ]
  },
  {
   "cell_type": "code",
   "execution_count": 3,
   "metadata": {},
   "outputs": [
    {
     "data": {
      "text/html": [
       "\n",
       "<div id=\"altair-viz-0ccf84e9544a413eb7609344f9fb2416\"></div>\n",
       "<script type=\"text/javascript\">\n",
       "  (function(spec, embedOpt){\n",
       "    let outputDiv = document.currentScript.previousElementSibling;\n",
       "    if (outputDiv.id !== \"altair-viz-0ccf84e9544a413eb7609344f9fb2416\") {\n",
       "      outputDiv = document.getElementById(\"altair-viz-0ccf84e9544a413eb7609344f9fb2416\");\n",
       "    }\n",
       "    const paths = {\n",
       "      \"vega\": \"https://cdn.jsdelivr.net/npm//vega@5?noext\",\n",
       "      \"vega-lib\": \"https://cdn.jsdelivr.net/npm//vega-lib?noext\",\n",
       "      \"vega-lite\": \"https://cdn.jsdelivr.net/npm//vega-lite@4.8.1?noext\",\n",
       "      \"vega-embed\": \"https://cdn.jsdelivr.net/npm//vega-embed@6?noext\",\n",
       "    };\n",
       "\n",
       "    function loadScript(lib) {\n",
       "      return new Promise(function(resolve, reject) {\n",
       "        var s = document.createElement('script');\n",
       "        s.src = paths[lib];\n",
       "        s.async = true;\n",
       "        s.onload = () => resolve(paths[lib]);\n",
       "        s.onerror = () => reject(`Error loading script: ${paths[lib]}`);\n",
       "        document.getElementsByTagName(\"head\")[0].appendChild(s);\n",
       "      });\n",
       "    }\n",
       "\n",
       "    function showError(err) {\n",
       "      outputDiv.innerHTML = `<div class=\"error\" style=\"color:red;\">${err}</div>`;\n",
       "      throw err;\n",
       "    }\n",
       "\n",
       "    function displayChart(vegaEmbed) {\n",
       "      vegaEmbed(outputDiv, spec, embedOpt)\n",
       "        .catch(err => showError(`Javascript Error: ${err.message}<br>This usually means there's a typo in your chart specification. See the javascript console for the full traceback.`));\n",
       "    }\n",
       "\n",
       "    if(typeof define === \"function\" && define.amd) {\n",
       "      requirejs.config({paths});\n",
       "      require([\"vega-embed\"], displayChart, err => showError(`Error loading script: ${err.message}`));\n",
       "    } else if (typeof vegaEmbed === \"function\") {\n",
       "      displayChart(vegaEmbed);\n",
       "    } else {\n",
       "      loadScript(\"vega\")\n",
       "        .then(() => loadScript(\"vega-lite\"))\n",
       "        .then(() => loadScript(\"vega-embed\"))\n",
       "        .catch(showError)\n",
       "        .then(() => displayChart(vegaEmbed));\n",
       "    }\n",
       "  })({\"config\": {\"view\": {\"continuousWidth\": 400, \"continuousHeight\": 300}}, \"data\": {\"values\": [{\"x\": \"A\", \"y\": 5}, {\"x\": \"B\", \"y\": 3}, {\"x\": \"C\", \"y\": 6}, {\"x\": \"D\", \"y\": 7}, {\"x\": \"E\", \"y\": 2}]}, \"mark\": \"bar\", \"encoding\": {\"x\": {\"type\": \"ordinal\", \"field\": \"x\"}, \"y\": {\"type\": \"quantitative\", \"field\": \"y\"}}, \"$schema\": \"https://vega.github.io/schema/vega-lite/v4.8.1.json\"}, {\"mode\": \"vega-lite\"});\n",
       "</script>"
      ],
      "text/plain": [
       "alt.Chart(...)"
      ]
     },
     "execution_count": 3,
     "metadata": {},
     "output_type": "execute_result"
    }
   ],
   "source": [
    "import altair as alt\n",
    "\n",
    "data = alt.Data(values=[{'x': 'A', 'y': 5},\n",
    "                        {'x': 'B', 'y': 3},\n",
    "                        {'x': 'C', 'y': 6},\n",
    "                        {'x': 'D', 'y': 7},\n",
    "                        {'x': 'E', 'y': 2}])\n",
    "alt.Chart(data).mark_bar().encode(\n",
    "    x='x:O',  # specify ordinal data\n",
    "    y='y:Q',  # specify quantitative data\n",
    ")"
   ]
  },
  {
   "cell_type": "code",
   "execution_count": 4,
   "metadata": {},
   "outputs": [
    {
     "data": {
      "text/html": [
       "\n",
       "<div id=\"altair-viz-b77ed65444ac4280a79da4fb1cd3d02b\"></div>\n",
       "<script type=\"text/javascript\">\n",
       "  (function(spec, embedOpt){\n",
       "    let outputDiv = document.currentScript.previousElementSibling;\n",
       "    if (outputDiv.id !== \"altair-viz-b77ed65444ac4280a79da4fb1cd3d02b\") {\n",
       "      outputDiv = document.getElementById(\"altair-viz-b77ed65444ac4280a79da4fb1cd3d02b\");\n",
       "    }\n",
       "    const paths = {\n",
       "      \"vega\": \"https://cdn.jsdelivr.net/npm//vega@5?noext\",\n",
       "      \"vega-lib\": \"https://cdn.jsdelivr.net/npm//vega-lib?noext\",\n",
       "      \"vega-lite\": \"https://cdn.jsdelivr.net/npm//vega-lite@4.8.1?noext\",\n",
       "      \"vega-embed\": \"https://cdn.jsdelivr.net/npm//vega-embed@6?noext\",\n",
       "    };\n",
       "\n",
       "    function loadScript(lib) {\n",
       "      return new Promise(function(resolve, reject) {\n",
       "        var s = document.createElement('script');\n",
       "        s.src = paths[lib];\n",
       "        s.async = true;\n",
       "        s.onload = () => resolve(paths[lib]);\n",
       "        s.onerror = () => reject(`Error loading script: ${paths[lib]}`);\n",
       "        document.getElementsByTagName(\"head\")[0].appendChild(s);\n",
       "      });\n",
       "    }\n",
       "\n",
       "    function showError(err) {\n",
       "      outputDiv.innerHTML = `<div class=\"error\" style=\"color:red;\">${err}</div>`;\n",
       "      throw err;\n",
       "    }\n",
       "\n",
       "    function displayChart(vegaEmbed) {\n",
       "      vegaEmbed(outputDiv, spec, embedOpt)\n",
       "        .catch(err => showError(`Javascript Error: ${err.message}<br>This usually means there's a typo in your chart specification. See the javascript console for the full traceback.`));\n",
       "    }\n",
       "\n",
       "    if(typeof define === \"function\" && define.amd) {\n",
       "      requirejs.config({paths});\n",
       "      require([\"vega-embed\"], displayChart, err => showError(`Error loading script: ${err.message}`));\n",
       "    } else if (typeof vegaEmbed === \"function\") {\n",
       "      displayChart(vegaEmbed);\n",
       "    } else {\n",
       "      loadScript(\"vega\")\n",
       "        .then(() => loadScript(\"vega-lite\"))\n",
       "        .then(() => loadScript(\"vega-embed\"))\n",
       "        .catch(showError)\n",
       "        .then(() => displayChart(vegaEmbed));\n",
       "    }\n",
       "  })({\"config\": {\"view\": {\"continuousWidth\": 400, \"continuousHeight\": 300}}, \"data\": {\"url\": \"https://cdn.jsdelivr.net/npm/vega-datasets@v1.29.0/data/cars.json\"}, \"mark\": \"point\", \"encoding\": {\"x\": {\"type\": \"quantitative\", \"field\": \"Horsepower\"}, \"y\": {\"type\": \"quantitative\", \"field\": \"Miles_per_Gallon\"}}, \"$schema\": \"https://vega.github.io/schema/vega-lite/v4.8.1.json\"}, {\"mode\": \"vega-lite\"});\n",
       "</script>"
      ],
      "text/plain": [
       "alt.Chart(...)"
      ]
     },
     "execution_count": 4,
     "metadata": {},
     "output_type": "execute_result"
    }
   ],
   "source": [
    "import altair as alt\n",
    "from vega_datasets import data\n",
    "url = data.cars.url\n",
    "\n",
    "alt.Chart(url).mark_point().encode(\n",
    "    x='Horsepower:Q',\n",
    "    y='Miles_per_Gallon:Q'\n",
    ")"
   ]
  },
  {
   "cell_type": "markdown",
   "metadata": {},
   "source": [
    "## Including Index Data\n"
   ]
  },
  {
   "cell_type": "code",
   "execution_count": 5,
   "metadata": {},
   "outputs": [
    {
     "data": {
      "text/html": [
       "<div>\n",
       "<style scoped>\n",
       "    .dataframe tbody tr th:only-of-type {\n",
       "        vertical-align: middle;\n",
       "    }\n",
       "\n",
       "    .dataframe tbody tr th {\n",
       "        vertical-align: top;\n",
       "    }\n",
       "\n",
       "    .dataframe thead th {\n",
       "        text-align: right;\n",
       "    }\n",
       "</style>\n",
       "<table border=\"1\" class=\"dataframe\">\n",
       "  <thead>\n",
       "    <tr style=\"text-align: right;\">\n",
       "      <th></th>\n",
       "      <th>value</th>\n",
       "    </tr>\n",
       "  </thead>\n",
       "  <tbody>\n",
       "    <tr>\n",
       "      <th>2018-01-01</th>\n",
       "      <td>1.764052</td>\n",
       "    </tr>\n",
       "    <tr>\n",
       "      <th>2018-01-02</th>\n",
       "      <td>2.164210</td>\n",
       "    </tr>\n",
       "    <tr>\n",
       "      <th>2018-01-03</th>\n",
       "      <td>3.142948</td>\n",
       "    </tr>\n",
       "    <tr>\n",
       "      <th>2018-01-04</th>\n",
       "      <td>5.383841</td>\n",
       "    </tr>\n",
       "    <tr>\n",
       "      <th>2018-01-05</th>\n",
       "      <td>7.251399</td>\n",
       "    </tr>\n",
       "  </tbody>\n",
       "</table>\n",
       "</div>"
      ],
      "text/plain": [
       "               value\n",
       "2018-01-01  1.764052\n",
       "2018-01-02  2.164210\n",
       "2018-01-03  3.142948\n",
       "2018-01-04  5.383841\n",
       "2018-01-05  7.251399"
      ]
     },
     "execution_count": 5,
     "metadata": {},
     "output_type": "execute_result"
    }
   ],
   "source": [
    "import numpy as np\n",
    "rand = np.random.RandomState(0)\n",
    "\n",
    "data = pd.DataFrame({'value': rand.randn(100).cumsum()},\n",
    "                    index=pd.date_range('2018', freq='D', periods=100))\n",
    "data.head()"
   ]
  },
  {
   "cell_type": "code",
   "execution_count": 6,
   "metadata": {},
   "outputs": [
    {
     "data": {
      "text/html": [
       "\n",
       "<div id=\"altair-viz-2b34868cef104a1ab486e7b6fa330529\"></div>\n",
       "<script type=\"text/javascript\">\n",
       "  (function(spec, embedOpt){\n",
       "    let outputDiv = document.currentScript.previousElementSibling;\n",
       "    if (outputDiv.id !== \"altair-viz-2b34868cef104a1ab486e7b6fa330529\") {\n",
       "      outputDiv = document.getElementById(\"altair-viz-2b34868cef104a1ab486e7b6fa330529\");\n",
       "    }\n",
       "    const paths = {\n",
       "      \"vega\": \"https://cdn.jsdelivr.net/npm//vega@5?noext\",\n",
       "      \"vega-lib\": \"https://cdn.jsdelivr.net/npm//vega-lib?noext\",\n",
       "      \"vega-lite\": \"https://cdn.jsdelivr.net/npm//vega-lite@4.8.1?noext\",\n",
       "      \"vega-embed\": \"https://cdn.jsdelivr.net/npm//vega-embed@6?noext\",\n",
       "    };\n",
       "\n",
       "    function loadScript(lib) {\n",
       "      return new Promise(function(resolve, reject) {\n",
       "        var s = document.createElement('script');\n",
       "        s.src = paths[lib];\n",
       "        s.async = true;\n",
       "        s.onload = () => resolve(paths[lib]);\n",
       "        s.onerror = () => reject(`Error loading script: ${paths[lib]}`);\n",
       "        document.getElementsByTagName(\"head\")[0].appendChild(s);\n",
       "      });\n",
       "    }\n",
       "\n",
       "    function showError(err) {\n",
       "      outputDiv.innerHTML = `<div class=\"error\" style=\"color:red;\">${err}</div>`;\n",
       "      throw err;\n",
       "    }\n",
       "\n",
       "    function displayChart(vegaEmbed) {\n",
       "      vegaEmbed(outputDiv, spec, embedOpt)\n",
       "        .catch(err => showError(`Javascript Error: ${err.message}<br>This usually means there's a typo in your chart specification. See the javascript console for the full traceback.`));\n",
       "    }\n",
       "\n",
       "    if(typeof define === \"function\" && define.amd) {\n",
       "      requirejs.config({paths});\n",
       "      require([\"vega-embed\"], displayChart, err => showError(`Error loading script: ${err.message}`));\n",
       "    } else if (typeof vegaEmbed === \"function\") {\n",
       "      displayChart(vegaEmbed);\n",
       "    } else {\n",
       "      loadScript(\"vega\")\n",
       "        .then(() => loadScript(\"vega-lite\"))\n",
       "        .then(() => loadScript(\"vega-embed\"))\n",
       "        .catch(showError)\n",
       "        .then(() => displayChart(vegaEmbed));\n",
       "    }\n",
       "  })({\"config\": {\"view\": {\"continuousWidth\": 400, \"continuousHeight\": 300}}, \"data\": {\"name\": \"data-dd19c1c673ba91c82c2873cf9b033163\"}, \"mark\": \"line\", \"encoding\": {\"x\": {\"type\": \"temporal\", \"field\": \"index\"}, \"y\": {\"type\": \"quantitative\", \"field\": \"value\"}}, \"$schema\": \"https://vega.github.io/schema/vega-lite/v4.8.1.json\", \"datasets\": {\"data-dd19c1c673ba91c82c2873cf9b033163\": [{\"index\": \"2018-01-01T00:00:00\", \"value\": 1.764052345967664}, {\"index\": \"2018-01-02T00:00:00\", \"value\": 2.1642095543348874}, {\"index\": \"2018-01-03T00:00:00\", \"value\": 3.1429475384406267}, {\"index\": \"2018-01-04T00:00:00\", \"value\": 5.3838407376420845}, {\"index\": \"2018-01-05T00:00:00\", \"value\": 7.251398727792052}, {\"index\": \"2018-01-06T00:00:00\", \"value\": 6.274120847915642}, {\"index\": \"2018-01-07T00:00:00\", \"value\": 7.224209265441231}, {\"index\": \"2018-01-08T00:00:00\", \"value\": 7.072852057143533}, {\"index\": \"2018-01-09T00:00:00\", \"value\": 6.969633205349975}, {\"index\": \"2018-01-10T00:00:00\", \"value\": 7.380231707288347}, {\"index\": \"2018-01-11T00:00:00\", \"value\": 7.524275278449225}, {\"index\": \"2018-01-12T00:00:00\", \"value\": 8.9785487854122}, {\"index\": \"2018-01-13T00:00:00\", \"value\": 9.739586510559192}, {\"index\": \"2018-01-14T00:00:00\", \"value\": 9.86126152705202}, {\"index\": \"2018-01-15T00:00:00\", \"value\": 10.305124759797446}, {\"index\": \"2018-01-16T00:00:00\", \"value\": 10.638799087171712}, {\"index\": \"2018-01-17T00:00:00\", \"value\": 12.132878160329318}, {\"index\": \"2018-01-18T00:00:00\", \"value\": 11.927719896563516}, {\"index\": \"2018-01-19T00:00:00\", \"value\": 12.240787598214418}, {\"index\": \"2018-01-20T00:00:00\", \"value\": 11.386691858912693}, {\"index\": \"2018-01-21T00:00:00\", \"value\": 8.833702043078613}, {\"index\": \"2018-01-22T00:00:00\", \"value\": 9.487320638518973}, {\"index\": \"2018-01-23T00:00:00\", \"value\": 10.35175683737848}, {\"index\": \"2018-01-24T00:00:00\", \"value\": 9.609591816972037}, {\"index\": \"2018-01-25T00:00:00\", \"value\": 11.879346440959644}, {\"index\": \"2018-01-26T00:00:00\", \"value\": 10.424980766360878}, {\"index\": \"2018-01-27T00:00:00\", \"value\": 10.470739283662324}, {\"index\": \"2018-01-28T00:00:00\", \"value\": 10.28355543363649}, {\"index\": \"2018-01-29T00:00:00\", \"value\": 11.816334647994948}, {\"index\": \"2018-01-30T00:00:00\", \"value\": 13.285693417895233}, {\"index\": \"2018-01-31T00:00:00\", \"value\": 13.44064084359215}, {\"index\": \"2018-02-01T00:00:00\", \"value\": 13.818803363194323}, {\"index\": \"2018-02-02T00:00:00\", \"value\": 12.93101761556421}, {\"index\": \"2018-02-03T00:00:00\", \"value\": 10.950221147340283}, {\"index\": \"2018-02-04T00:00:00\", \"value\": 10.60230899801413}, {\"index\": \"2018-02-05T00:00:00\", \"value\": 10.758657967118111}, {\"index\": \"2018-02-06T00:00:00\", \"value\": 11.988948647845833}, {\"index\": \"2018-02-07T00:00:00\", \"value\": 13.191328496630245}, {\"index\": \"2018-02-08T00:00:00\", \"value\": 12.804001679222292}, {\"index\": \"2018-02-09T00:00:00\", \"value\": 12.501698928646956}, {\"index\": \"2018-02-10T00:00:00\", \"value\": 11.453145963579864}, {\"index\": \"2018-02-11T00:00:00\", \"value\": 10.033128026400888}, {\"index\": \"2018-02-12T00:00:00\", \"value\": 8.326857835775876}, {\"index\": \"2018-02-13T00:00:00\", \"value\": 10.277633231007666}, {\"index\": \"2018-02-14T00:00:00\", \"value\": 9.767981049256013}, {\"index\": \"2018-02-15T00:00:00\", \"value\": 9.329906747644827}, {\"index\": \"2018-02-16T00:00:00\", \"value\": 8.0771113875949}, {\"index\": \"2018-02-17T00:00:00\", \"value\": 8.85460174342681}, {\"index\": \"2018-02-18T00:00:00\", \"value\": 7.240703895868859}, {\"index\": \"2018-02-19T00:00:00\", \"value\": 7.02796361565489}, {\"index\": \"2018-02-20T00:00:00\", \"value\": 6.132497054461215}, {\"index\": \"2018-02-21T00:00:00\", \"value\": 6.519399552320477}, {\"index\": \"2018-02-22T00:00:00\", \"value\": 6.008594414751604}, {\"index\": \"2018-02-23T00:00:00\", \"value\": 4.827962230629192}, {\"index\": \"2018-02-24T00:00:00\", \"value\": 4.799780002290537}, {\"index\": \"2018-02-25T00:00:00\", \"value\": 5.228111872820954}, {\"index\": \"2018-02-26T00:00:00\", \"value\": 5.294629095204122}, {\"index\": \"2018-02-27T00:00:00\", \"value\": 5.597100992943904}, {\"index\": \"2018-02-28T00:00:00\", \"value\": 4.962778899262941}, {\"index\": \"2018-03-01T00:00:00\", \"value\": 4.600037733275802}, {\"index\": \"2018-03-02T00:00:00\", \"value\": 3.927577285499851}, {\"index\": \"2018-03-03T00:00:00\", \"value\": 3.56802412395931}, {\"index\": \"2018-03-04T00:00:00\", \"value\": 2.7548778419148556}, {\"index\": \"2018-03-05T00:00:00\", \"value\": 1.0285952395831788}, {\"index\": \"2018-03-06T00:00:00\", \"value\": 1.2060213818369316}, {\"index\": \"2018-03-07T00:00:00\", \"value\": 0.8042404456286698}, {\"index\": \"2018-03-08T00:00:00\", \"value\": -0.8259579013373748}, {\"index\": \"2018-03-09T00:00:00\", \"value\": -0.3631756458116006}, {\"index\": \"2018-03-10T00:00:00\", \"value\": -1.2704740101948429}, {\"index\": \"2018-03-11T00:00:00\", \"value\": -1.218528614398704}, {\"index\": \"2018-03-12T00:00:00\", \"value\": -0.4894380522211671}, {\"index\": \"2018-03-13T00:00:00\", \"value\": -0.36045514146375646}, {\"index\": \"2018-03-14T00:00:00\", \"value\": 0.7789455430795442}, {\"index\": \"2018-03-15T00:00:00\", \"value\": -0.4558802772741084}, {\"index\": \"2018-03-16T00:00:00\", \"value\": -0.0535386360965594}, {\"index\": \"2018-03-17T00:00:00\", \"value\": -0.7383487270368726}, {\"index\": \"2018-03-18T00:00:00\", \"value\": -1.6091458762187543}, {\"index\": \"2018-03-19T00:00:00\", \"value\": -2.1879955409831697}, {\"index\": \"2018-03-20T00:00:00\", \"value\": -2.4995480731105424}, {\"index\": \"2018-03-21T00:00:00\", \"value\": -2.443382730880797}, {\"index\": \"2018-03-22T00:00:00\", \"value\": -3.6085325716641536}, {\"index\": \"2018-03-23T00:00:00\", \"value\": -2.7077060847099665}, {\"index\": \"2018-03-24T00:00:00\", \"value\": -2.242043644979507}, {\"index\": \"2018-03-25T00:00:00\", \"value\": -3.7782873312567307}, {\"index\": \"2018-03-26T00:00:00\", \"value\": -2.290035137461131}, {\"index\": \"2018-03-27T00:00:00\", \"value\": -0.3941459614305478}, {\"index\": \"2018-03-28T00:00:00\", \"value\": 0.7846336097291029}, {\"index\": \"2018-03-29T00:00:00\", \"value\": 0.604708773916752}, {\"index\": \"2018-03-30T00:00:00\", \"value\": -0.4660438475937905}, {\"index\": \"2018-03-31T00:00:00\", \"value\": 0.5884078793373462}, {\"index\": \"2018-04-01T00:00:00\", \"value\": 0.18523093236416655}, {\"index\": \"2018-04-02T00:00:00\", \"value\": 1.407676002746594}, {\"index\": \"2018-04-03T00:00:00\", \"value\": 1.6159509808234542}, {\"index\": \"2018-04-04T00:00:00\", \"value\": 2.5925900173071668}, {\"index\": \"2018-04-05T00:00:00\", \"value\": 2.9489564144815685}, {\"index\": \"2018-04-06T00:00:00\", \"value\": 3.6555295826735166}, {\"index\": \"2018-04-07T00:00:00\", \"value\": 3.666029603394337}, {\"index\": \"2018-04-08T00:00:00\", \"value\": 5.4519000973001726}, {\"index\": \"2018-04-09T00:00:00\", \"value\": 5.578812190003792}, {\"index\": \"2018-04-10T00:00:00\", \"value\": 5.980801553448494}]}}, {\"mode\": \"vega-lite\"});\n",
       "</script>"
      ],
      "text/plain": [
       "alt.Chart(...)"
      ]
     },
     "execution_count": 6,
     "metadata": {},
     "output_type": "execute_result"
    }
   ],
   "source": [
    "alt.Chart(data.reset_index()).mark_line().encode(\n",
    "    x='index:T',\n",
    "    y='value:Q'\n",
    ")"
   ]
  },
  {
   "cell_type": "markdown",
   "metadata": {},
   "source": [
    "## Long-form vs. Wide-form Data\n"
   ]
  },
  {
   "cell_type": "code",
   "execution_count": 7,
   "metadata": {},
   "outputs": [
    {
     "name": "stdout",
     "output_type": "stream",
     "text": [
      "         Date    AAPL   AMZN    GOOG\n",
      "0  2007-10-01  189.95  89.15  707.00\n",
      "1  2007-11-01  182.22  90.56  693.00\n",
      "2  2007-12-01  198.08  92.64  691.48\n"
     ]
    }
   ],
   "source": [
    "wide_form = pd.DataFrame({'Date': ['2007-10-01', '2007-11-01', '2007-12-01'],\n",
    "                          'AAPL': [189.95, 182.22, 198.08],\n",
    "                          'AMZN': [89.15, 90.56, 92.64],\n",
    "                          'GOOG': [707.00, 693.00, 691.48]})\n",
    "print(wide_form)"
   ]
  },
  {
   "cell_type": "code",
   "execution_count": 8,
   "metadata": {},
   "outputs": [
    {
     "name": "stdout",
     "output_type": "stream",
     "text": [
      "         Date company   price\n",
      "0  2007-10-01    AAPL  189.95\n",
      "1  2007-11-01    AAPL  182.22\n",
      "2  2007-12-01    AAPL  198.08\n",
      "3  2007-10-01    AMZN   89.15\n",
      "4  2007-11-01    AMZN   90.56\n",
      "5  2007-12-01    AMZN   92.64\n",
      "6  2007-10-01    GOOG  707.00\n",
      "7  2007-11-01    GOOG  693.00\n",
      "8  2007-12-01    GOOG  691.48\n"
     ]
    }
   ],
   "source": [
    "long_form = pd.DataFrame({'Date': ['2007-10-01', '2007-11-01', '2007-12-01',\n",
    "                                   '2007-10-01', '2007-11-01', '2007-12-01',\n",
    "                                   '2007-10-01', '2007-11-01', '2007-12-01'],\n",
    "                          'company': ['AAPL', 'AAPL', 'AAPL',\n",
    "                                      'AMZN', 'AMZN', 'AMZN',\n",
    "                                      'GOOG', 'GOOG', 'GOOG'],\n",
    "                          'price': [189.95, 182.22, 198.08,\n",
    "                                     89.15,  90.56,  92.64,\n",
    "                                    707.00, 693.00, 691.48]})\n",
    "print(long_form)"
   ]
  },
  {
   "cell_type": "code",
   "execution_count": 9,
   "metadata": {},
   "outputs": [
    {
     "data": {
      "text/html": [
       "\n",
       "<div id=\"altair-viz-5b4cb479182c41b18d7a48d6cf1a0812\"></div>\n",
       "<script type=\"text/javascript\">\n",
       "  (function(spec, embedOpt){\n",
       "    let outputDiv = document.currentScript.previousElementSibling;\n",
       "    if (outputDiv.id !== \"altair-viz-5b4cb479182c41b18d7a48d6cf1a0812\") {\n",
       "      outputDiv = document.getElementById(\"altair-viz-5b4cb479182c41b18d7a48d6cf1a0812\");\n",
       "    }\n",
       "    const paths = {\n",
       "      \"vega\": \"https://cdn.jsdelivr.net/npm//vega@5?noext\",\n",
       "      \"vega-lib\": \"https://cdn.jsdelivr.net/npm//vega-lib?noext\",\n",
       "      \"vega-lite\": \"https://cdn.jsdelivr.net/npm//vega-lite@4.8.1?noext\",\n",
       "      \"vega-embed\": \"https://cdn.jsdelivr.net/npm//vega-embed@6?noext\",\n",
       "    };\n",
       "\n",
       "    function loadScript(lib) {\n",
       "      return new Promise(function(resolve, reject) {\n",
       "        var s = document.createElement('script');\n",
       "        s.src = paths[lib];\n",
       "        s.async = true;\n",
       "        s.onload = () => resolve(paths[lib]);\n",
       "        s.onerror = () => reject(`Error loading script: ${paths[lib]}`);\n",
       "        document.getElementsByTagName(\"head\")[0].appendChild(s);\n",
       "      });\n",
       "    }\n",
       "\n",
       "    function showError(err) {\n",
       "      outputDiv.innerHTML = `<div class=\"error\" style=\"color:red;\">${err}</div>`;\n",
       "      throw err;\n",
       "    }\n",
       "\n",
       "    function displayChart(vegaEmbed) {\n",
       "      vegaEmbed(outputDiv, spec, embedOpt)\n",
       "        .catch(err => showError(`Javascript Error: ${err.message}<br>This usually means there's a typo in your chart specification. See the javascript console for the full traceback.`));\n",
       "    }\n",
       "\n",
       "    if(typeof define === \"function\" && define.amd) {\n",
       "      requirejs.config({paths});\n",
       "      require([\"vega-embed\"], displayChart, err => showError(`Error loading script: ${err.message}`));\n",
       "    } else if (typeof vegaEmbed === \"function\") {\n",
       "      displayChart(vegaEmbed);\n",
       "    } else {\n",
       "      loadScript(\"vega\")\n",
       "        .then(() => loadScript(\"vega-lite\"))\n",
       "        .then(() => loadScript(\"vega-embed\"))\n",
       "        .catch(showError)\n",
       "        .then(() => displayChart(vegaEmbed));\n",
       "    }\n",
       "  })({\"config\": {\"view\": {\"continuousWidth\": 400, \"continuousHeight\": 300}}, \"data\": {\"name\": \"data-838ec4417e9a8df251f2031a5a48660b\"}, \"mark\": \"line\", \"encoding\": {\"color\": {\"type\": \"nominal\", \"field\": \"company\"}, \"x\": {\"type\": \"temporal\", \"field\": \"Date\"}, \"y\": {\"type\": \"quantitative\", \"field\": \"price\"}}, \"$schema\": \"https://vega.github.io/schema/vega-lite/v4.8.1.json\", \"datasets\": {\"data-838ec4417e9a8df251f2031a5a48660b\": [{\"Date\": \"2007-10-01\", \"company\": \"AAPL\", \"price\": 189.95}, {\"Date\": \"2007-11-01\", \"company\": \"AAPL\", \"price\": 182.22}, {\"Date\": \"2007-12-01\", \"company\": \"AAPL\", \"price\": 198.08}, {\"Date\": \"2007-10-01\", \"company\": \"AMZN\", \"price\": 89.15}, {\"Date\": \"2007-11-01\", \"company\": \"AMZN\", \"price\": 90.56}, {\"Date\": \"2007-12-01\", \"company\": \"AMZN\", \"price\": 92.64}, {\"Date\": \"2007-10-01\", \"company\": \"GOOG\", \"price\": 707.0}, {\"Date\": \"2007-11-01\", \"company\": \"GOOG\", \"price\": 693.0}, {\"Date\": \"2007-12-01\", \"company\": \"GOOG\", \"price\": 691.48}]}}, {\"mode\": \"vega-lite\"});\n",
       "</script>"
      ],
      "text/plain": [
       "alt.Chart(...)"
      ]
     },
     "execution_count": 9,
     "metadata": {},
     "output_type": "execute_result"
    }
   ],
   "source": [
    "alt.Chart(long_form).mark_line().encode(\n",
    "  x='Date:T',\n",
    "  y='price:Q',\n",
    "  color='company:N'\n",
    ")"
   ]
  },
  {
   "cell_type": "markdown",
   "metadata": {},
   "source": [
    "### Converting Between Long-form and Wide-form: Pandas\n"
   ]
  },
  {
   "cell_type": "code",
   "execution_count": 10,
   "metadata": {},
   "outputs": [
    {
     "data": {
      "text/html": [
       "<div>\n",
       "<style scoped>\n",
       "    .dataframe tbody tr th:only-of-type {\n",
       "        vertical-align: middle;\n",
       "    }\n",
       "\n",
       "    .dataframe tbody tr th {\n",
       "        vertical-align: top;\n",
       "    }\n",
       "\n",
       "    .dataframe thead th {\n",
       "        text-align: right;\n",
       "    }\n",
       "</style>\n",
       "<table border=\"1\" class=\"dataframe\">\n",
       "  <thead>\n",
       "    <tr style=\"text-align: right;\">\n",
       "      <th></th>\n",
       "      <th>Date</th>\n",
       "      <th>company</th>\n",
       "      <th>price</th>\n",
       "    </tr>\n",
       "  </thead>\n",
       "  <tbody>\n",
       "    <tr>\n",
       "      <th>0</th>\n",
       "      <td>2007-10-01</td>\n",
       "      <td>AAPL</td>\n",
       "      <td>189.95</td>\n",
       "    </tr>\n",
       "    <tr>\n",
       "      <th>1</th>\n",
       "      <td>2007-11-01</td>\n",
       "      <td>AAPL</td>\n",
       "      <td>182.22</td>\n",
       "    </tr>\n",
       "    <tr>\n",
       "      <th>2</th>\n",
       "      <td>2007-12-01</td>\n",
       "      <td>AAPL</td>\n",
       "      <td>198.08</td>\n",
       "    </tr>\n",
       "    <tr>\n",
       "      <th>3</th>\n",
       "      <td>2007-10-01</td>\n",
       "      <td>AMZN</td>\n",
       "      <td>89.15</td>\n",
       "    </tr>\n",
       "    <tr>\n",
       "      <th>4</th>\n",
       "      <td>2007-11-01</td>\n",
       "      <td>AMZN</td>\n",
       "      <td>90.56</td>\n",
       "    </tr>\n",
       "    <tr>\n",
       "      <th>5</th>\n",
       "      <td>2007-12-01</td>\n",
       "      <td>AMZN</td>\n",
       "      <td>92.64</td>\n",
       "    </tr>\n",
       "    <tr>\n",
       "      <th>6</th>\n",
       "      <td>2007-10-01</td>\n",
       "      <td>GOOG</td>\n",
       "      <td>707.00</td>\n",
       "    </tr>\n",
       "    <tr>\n",
       "      <th>7</th>\n",
       "      <td>2007-11-01</td>\n",
       "      <td>GOOG</td>\n",
       "      <td>693.00</td>\n",
       "    </tr>\n",
       "    <tr>\n",
       "      <th>8</th>\n",
       "      <td>2007-12-01</td>\n",
       "      <td>GOOG</td>\n",
       "      <td>691.48</td>\n",
       "    </tr>\n",
       "  </tbody>\n",
       "</table>\n",
       "</div>"
      ],
      "text/plain": [
       "         Date company   price\n",
       "0  2007-10-01    AAPL  189.95\n",
       "1  2007-11-01    AAPL  182.22\n",
       "2  2007-12-01    AAPL  198.08\n",
       "3  2007-10-01    AMZN   89.15\n",
       "4  2007-11-01    AMZN   90.56\n",
       "5  2007-12-01    AMZN   92.64\n",
       "6  2007-10-01    GOOG  707.00\n",
       "7  2007-11-01    GOOG  693.00\n",
       "8  2007-12-01    GOOG  691.48"
      ]
     },
     "execution_count": 10,
     "metadata": {},
     "output_type": "execute_result"
    }
   ],
   "source": [
    "wide_form.melt('Date', var_name='company', value_name='price')\n"
   ]
  },
  {
   "cell_type": "code",
   "execution_count": 11,
   "metadata": {},
   "outputs": [
    {
     "data": {
      "text/html": [
       "<div>\n",
       "<style scoped>\n",
       "    .dataframe tbody tr th:only-of-type {\n",
       "        vertical-align: middle;\n",
       "    }\n",
       "\n",
       "    .dataframe tbody tr th {\n",
       "        vertical-align: top;\n",
       "    }\n",
       "\n",
       "    .dataframe thead th {\n",
       "        text-align: right;\n",
       "    }\n",
       "</style>\n",
       "<table border=\"1\" class=\"dataframe\">\n",
       "  <thead>\n",
       "    <tr style=\"text-align: right;\">\n",
       "      <th>company</th>\n",
       "      <th>Date</th>\n",
       "      <th>AAPL</th>\n",
       "      <th>AMZN</th>\n",
       "      <th>GOOG</th>\n",
       "    </tr>\n",
       "  </thead>\n",
       "  <tbody>\n",
       "    <tr>\n",
       "      <th>0</th>\n",
       "      <td>2007-10-01</td>\n",
       "      <td>189.95</td>\n",
       "      <td>89.15</td>\n",
       "      <td>707.00</td>\n",
       "    </tr>\n",
       "    <tr>\n",
       "      <th>1</th>\n",
       "      <td>2007-11-01</td>\n",
       "      <td>182.22</td>\n",
       "      <td>90.56</td>\n",
       "      <td>693.00</td>\n",
       "    </tr>\n",
       "    <tr>\n",
       "      <th>2</th>\n",
       "      <td>2007-12-01</td>\n",
       "      <td>198.08</td>\n",
       "      <td>92.64</td>\n",
       "      <td>691.48</td>\n",
       "    </tr>\n",
       "  </tbody>\n",
       "</table>\n",
       "</div>"
      ],
      "text/plain": [
       "company        Date    AAPL   AMZN    GOOG\n",
       "0        2007-10-01  189.95  89.15  707.00\n",
       "1        2007-11-01  182.22  90.56  693.00\n",
       "2        2007-12-01  198.08  92.64  691.48"
      ]
     },
     "execution_count": 11,
     "metadata": {},
     "output_type": "execute_result"
    }
   ],
   "source": [
    "long_form.pivot(index='Date', columns='company', values='price').reset_index()\n"
   ]
  },
  {
   "cell_type": "markdown",
   "metadata": {},
   "source": [
    "### Converting Between Long-form and Wide-form: Fold Transform\n"
   ]
  },
  {
   "cell_type": "code",
   "execution_count": 12,
   "metadata": {},
   "outputs": [
    {
     "data": {
      "text/html": [
       "\n",
       "<div id=\"altair-viz-d7cfcc220fd0481cae464dae49efa9a4\"></div>\n",
       "<script type=\"text/javascript\">\n",
       "  (function(spec, embedOpt){\n",
       "    let outputDiv = document.currentScript.previousElementSibling;\n",
       "    if (outputDiv.id !== \"altair-viz-d7cfcc220fd0481cae464dae49efa9a4\") {\n",
       "      outputDiv = document.getElementById(\"altair-viz-d7cfcc220fd0481cae464dae49efa9a4\");\n",
       "    }\n",
       "    const paths = {\n",
       "      \"vega\": \"https://cdn.jsdelivr.net/npm//vega@5?noext\",\n",
       "      \"vega-lib\": \"https://cdn.jsdelivr.net/npm//vega-lib?noext\",\n",
       "      \"vega-lite\": \"https://cdn.jsdelivr.net/npm//vega-lite@4.8.1?noext\",\n",
       "      \"vega-embed\": \"https://cdn.jsdelivr.net/npm//vega-embed@6?noext\",\n",
       "    };\n",
       "\n",
       "    function loadScript(lib) {\n",
       "      return new Promise(function(resolve, reject) {\n",
       "        var s = document.createElement('script');\n",
       "        s.src = paths[lib];\n",
       "        s.async = true;\n",
       "        s.onload = () => resolve(paths[lib]);\n",
       "        s.onerror = () => reject(`Error loading script: ${paths[lib]}`);\n",
       "        document.getElementsByTagName(\"head\")[0].appendChild(s);\n",
       "      });\n",
       "    }\n",
       "\n",
       "    function showError(err) {\n",
       "      outputDiv.innerHTML = `<div class=\"error\" style=\"color:red;\">${err}</div>`;\n",
       "      throw err;\n",
       "    }\n",
       "\n",
       "    function displayChart(vegaEmbed) {\n",
       "      vegaEmbed(outputDiv, spec, embedOpt)\n",
       "        .catch(err => showError(`Javascript Error: ${err.message}<br>This usually means there's a typo in your chart specification. See the javascript console for the full traceback.`));\n",
       "    }\n",
       "\n",
       "    if(typeof define === \"function\" && define.amd) {\n",
       "      requirejs.config({paths});\n",
       "      require([\"vega-embed\"], displayChart, err => showError(`Error loading script: ${err.message}`));\n",
       "    } else if (typeof vegaEmbed === \"function\") {\n",
       "      displayChart(vegaEmbed);\n",
       "    } else {\n",
       "      loadScript(\"vega\")\n",
       "        .then(() => loadScript(\"vega-lite\"))\n",
       "        .then(() => loadScript(\"vega-embed\"))\n",
       "        .catch(showError)\n",
       "        .then(() => displayChart(vegaEmbed));\n",
       "    }\n",
       "  })({\"config\": {\"view\": {\"continuousWidth\": 400, \"continuousHeight\": 300}}, \"data\": {\"name\": \"data-0262b56fd1a535ea9c867d2322ea5232\"}, \"mark\": \"line\", \"encoding\": {\"color\": {\"type\": \"nominal\", \"field\": \"company\"}, \"x\": {\"type\": \"temporal\", \"field\": \"Date\"}, \"y\": {\"type\": \"quantitative\", \"field\": \"price\"}}, \"transform\": [{\"fold\": [\"AAPL\", \"AMZN\", \"GOOG\"], \"as\": [\"company\", \"price\"]}], \"$schema\": \"https://vega.github.io/schema/vega-lite/v4.8.1.json\", \"datasets\": {\"data-0262b56fd1a535ea9c867d2322ea5232\": [{\"Date\": \"2007-10-01\", \"AAPL\": 189.95, \"AMZN\": 89.15, \"GOOG\": 707.0}, {\"Date\": \"2007-11-01\", \"AAPL\": 182.22, \"AMZN\": 90.56, \"GOOG\": 693.0}, {\"Date\": \"2007-12-01\", \"AAPL\": 198.08, \"AMZN\": 92.64, \"GOOG\": 691.48}]}}, {\"mode\": \"vega-lite\"});\n",
       "</script>"
      ],
      "text/plain": [
       "alt.Chart(...)"
      ]
     },
     "execution_count": 12,
     "metadata": {},
     "output_type": "execute_result"
    }
   ],
   "source": [
    "alt.Chart(wide_form).transform_fold(\n",
    "    ['AAPL', 'AMZN', 'GOOG'],\n",
    "    as_=['company', 'price']\n",
    ").mark_line().encode(\n",
    "    x='Date:T',\n",
    "    y='price:Q',\n",
    "    color='company:N'\n",
    ")"
   ]
  },
  {
   "cell_type": "markdown",
   "metadata": {},
   "source": [
    "## Generated Data\n"
   ]
  },
  {
   "cell_type": "markdown",
   "metadata": {},
   "source": [
    "### Sequence Generator\n"
   ]
  },
  {
   "cell_type": "code",
   "execution_count": 13,
   "metadata": {},
   "outputs": [
    {
     "data": {
      "text/html": [
       "\n",
       "<div id=\"altair-viz-ccabeff0fb9540c08f56b30d7ce1022c\"></div>\n",
       "<script type=\"text/javascript\">\n",
       "  (function(spec, embedOpt){\n",
       "    let outputDiv = document.currentScript.previousElementSibling;\n",
       "    if (outputDiv.id !== \"altair-viz-ccabeff0fb9540c08f56b30d7ce1022c\") {\n",
       "      outputDiv = document.getElementById(\"altair-viz-ccabeff0fb9540c08f56b30d7ce1022c\");\n",
       "    }\n",
       "    const paths = {\n",
       "      \"vega\": \"https://cdn.jsdelivr.net/npm//vega@5?noext\",\n",
       "      \"vega-lib\": \"https://cdn.jsdelivr.net/npm//vega-lib?noext\",\n",
       "      \"vega-lite\": \"https://cdn.jsdelivr.net/npm//vega-lite@4.8.1?noext\",\n",
       "      \"vega-embed\": \"https://cdn.jsdelivr.net/npm//vega-embed@6?noext\",\n",
       "    };\n",
       "\n",
       "    function loadScript(lib) {\n",
       "      return new Promise(function(resolve, reject) {\n",
       "        var s = document.createElement('script');\n",
       "        s.src = paths[lib];\n",
       "        s.async = true;\n",
       "        s.onload = () => resolve(paths[lib]);\n",
       "        s.onerror = () => reject(`Error loading script: ${paths[lib]}`);\n",
       "        document.getElementsByTagName(\"head\")[0].appendChild(s);\n",
       "      });\n",
       "    }\n",
       "\n",
       "    function showError(err) {\n",
       "      outputDiv.innerHTML = `<div class=\"error\" style=\"color:red;\">${err}</div>`;\n",
       "      throw err;\n",
       "    }\n",
       "\n",
       "    function displayChart(vegaEmbed) {\n",
       "      vegaEmbed(outputDiv, spec, embedOpt)\n",
       "        .catch(err => showError(`Javascript Error: ${err.message}<br>This usually means there's a typo in your chart specification. See the javascript console for the full traceback.`));\n",
       "    }\n",
       "\n",
       "    if(typeof define === \"function\" && define.amd) {\n",
       "      requirejs.config({paths});\n",
       "      require([\"vega-embed\"], displayChart, err => showError(`Error loading script: ${err.message}`));\n",
       "    } else if (typeof vegaEmbed === \"function\") {\n",
       "      displayChart(vegaEmbed);\n",
       "    } else {\n",
       "      loadScript(\"vega\")\n",
       "        .then(() => loadScript(\"vega-lite\"))\n",
       "        .then(() => loadScript(\"vega-embed\"))\n",
       "        .catch(showError)\n",
       "        .then(() => displayChart(vegaEmbed));\n",
       "    }\n",
       "  })({\"config\": {\"view\": {\"continuousWidth\": 400, \"continuousHeight\": 300}}, \"data\": {\"sequence\": {\"start\": 0, \"stop\": 10, \"step\": 0.1, \"as\": \"x\"}}, \"mark\": \"line\", \"encoding\": {\"x\": {\"type\": \"quantitative\", \"field\": \"x\"}, \"y\": {\"type\": \"quantitative\", \"field\": \"y\"}}, \"transform\": [{\"calculate\": \"sin(datum.x)\", \"as\": \"y\"}], \"$schema\": \"https://vega.github.io/schema/vega-lite/v4.8.1.json\"}, {\"mode\": \"vega-lite\"});\n",
       "</script>"
      ],
      "text/plain": [
       "alt.Chart(...)"
      ]
     },
     "execution_count": 13,
     "metadata": {},
     "output_type": "execute_result"
    }
   ],
   "source": [
    "import altair as alt\n",
    "\n",
    "# Note that the following generator is functionally similar to\n",
    "# data = pd.DataFrame({'x': np.arange(0, 10, 0.1)})\n",
    "data = alt.sequence(0, 10, 0.1, as_='x')\n",
    "\n",
    "alt.Chart(data).transform_calculate(\n",
    "    y='sin(datum.x)'\n",
    ").mark_line().encode(\n",
    "    x='x:Q',\n",
    "    y='y:Q',\n",
    ")"
   ]
  },
  {
   "cell_type": "markdown",
   "metadata": {},
   "source": [
    "### Graticule Generator\n"
   ]
  },
  {
   "cell_type": "code",
   "execution_count": 14,
   "metadata": {},
   "outputs": [
    {
     "data": {
      "text/html": [
       "\n",
       "<div id=\"altair-viz-c652281781114a61a97b424ca1bc15e8\"></div>\n",
       "<script type=\"text/javascript\">\n",
       "  (function(spec, embedOpt){\n",
       "    let outputDiv = document.currentScript.previousElementSibling;\n",
       "    if (outputDiv.id !== \"altair-viz-c652281781114a61a97b424ca1bc15e8\") {\n",
       "      outputDiv = document.getElementById(\"altair-viz-c652281781114a61a97b424ca1bc15e8\");\n",
       "    }\n",
       "    const paths = {\n",
       "      \"vega\": \"https://cdn.jsdelivr.net/npm//vega@5?noext\",\n",
       "      \"vega-lib\": \"https://cdn.jsdelivr.net/npm//vega-lib?noext\",\n",
       "      \"vega-lite\": \"https://cdn.jsdelivr.net/npm//vega-lite@4.8.1?noext\",\n",
       "      \"vega-embed\": \"https://cdn.jsdelivr.net/npm//vega-embed@6?noext\",\n",
       "    };\n",
       "\n",
       "    function loadScript(lib) {\n",
       "      return new Promise(function(resolve, reject) {\n",
       "        var s = document.createElement('script');\n",
       "        s.src = paths[lib];\n",
       "        s.async = true;\n",
       "        s.onload = () => resolve(paths[lib]);\n",
       "        s.onerror = () => reject(`Error loading script: ${paths[lib]}`);\n",
       "        document.getElementsByTagName(\"head\")[0].appendChild(s);\n",
       "      });\n",
       "    }\n",
       "\n",
       "    function showError(err) {\n",
       "      outputDiv.innerHTML = `<div class=\"error\" style=\"color:red;\">${err}</div>`;\n",
       "      throw err;\n",
       "    }\n",
       "\n",
       "    function displayChart(vegaEmbed) {\n",
       "      vegaEmbed(outputDiv, spec, embedOpt)\n",
       "        .catch(err => showError(`Javascript Error: ${err.message}<br>This usually means there's a typo in your chart specification. See the javascript console for the full traceback.`));\n",
       "    }\n",
       "\n",
       "    if(typeof define === \"function\" && define.amd) {\n",
       "      requirejs.config({paths});\n",
       "      require([\"vega-embed\"], displayChart, err => showError(`Error loading script: ${err.message}`));\n",
       "    } else if (typeof vegaEmbed === \"function\") {\n",
       "      displayChart(vegaEmbed);\n",
       "    } else {\n",
       "      loadScript(\"vega\")\n",
       "        .then(() => loadScript(\"vega-lite\"))\n",
       "        .then(() => loadScript(\"vega-embed\"))\n",
       "        .catch(showError)\n",
       "        .then(() => displayChart(vegaEmbed));\n",
       "    }\n",
       "  })({\"config\": {\"view\": {\"continuousWidth\": 400, \"continuousHeight\": 300}}, \"data\": {\"graticule\": {\"step\": [15, 15]}}, \"mark\": {\"type\": \"geoshape\", \"stroke\": \"black\"}, \"projection\": {\"rotate\": [0, -45, 0], \"type\": \"orthographic\"}, \"$schema\": \"https://vega.github.io/schema/vega-lite/v4.8.1.json\"}, {\"mode\": \"vega-lite\"});\n",
       "</script>"
      ],
      "text/plain": [
       "alt.Chart(...)"
      ]
     },
     "execution_count": 14,
     "metadata": {},
     "output_type": "execute_result"
    }
   ],
   "source": [
    "import altair as alt\n",
    "\n",
    "data = alt.graticule(step=[15, 15])\n",
    "\n",
    "alt.Chart(data).mark_geoshape(stroke='black').project(\n",
    "    'orthographic',\n",
    "    rotate=[0, -45, 0]\n",
    ")"
   ]
  },
  {
   "cell_type": "markdown",
   "metadata": {},
   "source": [
    "### Sphere Generator\n"
   ]
  },
  {
   "cell_type": "code",
   "execution_count": 2,
   "metadata": {},
   "outputs": [
    {
     "data": {
      "text/html": [
       "\n",
       "<div id=\"altair-viz-11ffccd9ed4e4ce3a2386e6751345adb\"></div>\n",
       "<script type=\"text/javascript\">\n",
       "  (function(spec, embedOpt){\n",
       "    let outputDiv = document.currentScript.previousElementSibling;\n",
       "    if (outputDiv.id !== \"altair-viz-11ffccd9ed4e4ce3a2386e6751345adb\") {\n",
       "      outputDiv = document.getElementById(\"altair-viz-11ffccd9ed4e4ce3a2386e6751345adb\");\n",
       "    }\n",
       "    const paths = {\n",
       "      \"vega\": \"https://cdn.jsdelivr.net/npm//vega@5?noext\",\n",
       "      \"vega-lib\": \"https://cdn.jsdelivr.net/npm//vega-lib?noext\",\n",
       "      \"vega-lite\": \"https://cdn.jsdelivr.net/npm//vega-lite@4.8.1?noext\",\n",
       "      \"vega-embed\": \"https://cdn.jsdelivr.net/npm//vega-embed@6?noext\",\n",
       "    };\n",
       "\n",
       "    function loadScript(lib) {\n",
       "      return new Promise(function(resolve, reject) {\n",
       "        var s = document.createElement('script');\n",
       "        s.src = paths[lib];\n",
       "        s.async = true;\n",
       "        s.onload = () => resolve(paths[lib]);\n",
       "        s.onerror = () => reject(`Error loading script: ${paths[lib]}`);\n",
       "        document.getElementsByTagName(\"head\")[0].appendChild(s);\n",
       "      });\n",
       "    }\n",
       "\n",
       "    function showError(err) {\n",
       "      outputDiv.innerHTML = `<div class=\"error\" style=\"color:red;\">${err}</div>`;\n",
       "      throw err;\n",
       "    }\n",
       "\n",
       "    function displayChart(vegaEmbed) {\n",
       "      vegaEmbed(outputDiv, spec, embedOpt)\n",
       "        .catch(err => showError(`Javascript Error: ${err.message}<br>This usually means there's a typo in your chart specification. See the javascript console for the full traceback.`));\n",
       "    }\n",
       "\n",
       "    if(typeof define === \"function\" && define.amd) {\n",
       "      requirejs.config({paths});\n",
       "      require([\"vega-embed\"], displayChart, err => showError(`Error loading script: ${err.message}`));\n",
       "    } else if (typeof vegaEmbed === \"function\") {\n",
       "      displayChart(vegaEmbed);\n",
       "    } else {\n",
       "      loadScript(\"vega\")\n",
       "        .then(() => loadScript(\"vega-lite\"))\n",
       "        .then(() => loadScript(\"vega-embed\"))\n",
       "        .catch(showError)\n",
       "        .then(() => displayChart(vegaEmbed));\n",
       "    }\n",
       "  })({\"config\": {\"view\": {\"continuousWidth\": 400, \"continuousHeight\": 300}}, \"layer\": [{\"data\": {\"sphere\": true}, \"mark\": {\"type\": \"geoshape\", \"fill\": \"aliceblue\"}}, {\"data\": {\"graticule\": {\"step\": [15, 15]}}, \"mark\": {\"type\": \"geoshape\", \"stroke\": \"black\"}}], \"projection\": {\"type\": \"naturalEarth1\"}, \"$schema\": \"https://vega.github.io/schema/vega-lite/v4.8.1.json\"}, {\"mode\": \"vega-lite\"});\n",
       "</script>"
      ],
      "text/plain": [
       "alt.LayerChart(...)"
      ]
     },
     "execution_count": 2,
     "metadata": {},
     "output_type": "execute_result"
    }
   ],
   "source": [
    "import altair as alt\n",
    "\n",
    "sphere_data = alt.sphere()\n",
    "grat_data = alt.graticule(step=[15, 15])\n",
    "\n",
    "background = alt.Chart(sphere_data).mark_geoshape(fill='aliceblue')\n",
    "lines = alt.Chart(grat_data).mark_geoshape(stroke='black')\n",
    "\n",
    "alt.layer(background, lines).project('naturalEarth1')"
   ]
  },
  {
   "cell_type": "markdown",
   "metadata": {},
   "source": [
    "### Geospatial Data\n"
   ]
  },
  {
   "cell_type": "code",
   "execution_count": 16,
   "metadata": {},
   "outputs": [
    {
     "data": {
      "text/plain": [
       "{'type': 'Feature',\n",
       " 'geometry': {'coordinates': [[[0, 0], [0, 2], [2, 2], [2, 0], [0, 0]]],\n",
       "  'type': 'Polygon'}}"
      ]
     },
     "execution_count": 16,
     "metadata": {},
     "output_type": "execute_result"
    }
   ],
   "source": [
    "{\n",
    "    \"type\": \"Feature\",\n",
    "    \"geometry\": {\n",
    "        \"coordinates\": [[\n",
    "            [0, 0],\n",
    "            [0, 2],\n",
    "            [2, 2],\n",
    "            [2, 0],\n",
    "            [0, 0]\n",
    "        ]],\n",
    "        \"type\": \"Polygon\"\n",
    "    }\n",
    "}"
   ]
  },
  {
   "cell_type": "code",
   "execution_count": null,
   "metadata": {},
   "outputs": [],
   "source": []
  }
 ],
 "metadata": {
  "kernelspec": {
   "display_name": "Python 3",
   "language": "python",
   "name": "python3"
  },
  "language_info": {
   "codemirror_mode": {
    "name": "ipython",
    "version": 3
   },
   "file_extension": ".py",
   "mimetype": "text/x-python",
   "name": "python",
   "nbconvert_exporter": "python",
   "pygments_lexer": "ipython3",
   "version": "3.8.5"
  }
 },
 "nbformat": 4,
 "nbformat_minor": 4
}
