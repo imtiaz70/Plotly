{
 "cells": [
  {
   "cell_type": "markdown",
   "metadata": {},
   "source": [
    "## Adding Annotations\n",
    "### Titles"
   ]
  },
  {
   "cell_type": "code",
   "execution_count": 33,
   "metadata": {},
   "outputs": [],
   "source": [
    "from bokeh.plotting import figure, output_file, show\n",
    "\n",
    "p = figure(title=\"Basic Title\", plot_width=300, plot_height=300)\n",
    "p.circle([1,2], [3,4])\n",
    "\n",
    "output_file(\"title.html\")\n",
    "\n",
    "show(p)"
   ]
  },
  {
   "cell_type": "code",
   "execution_count": 34,
   "metadata": {},
   "outputs": [],
   "source": [
    "from bokeh.plotting import figure, output_file, show\n",
    "\n",
    "p = figure(title=\"Left Title\", title_location=\"left\",\n",
    "           plot_width=300, plot_height=300)\n",
    "p.circle([1,2], [3,4])\n",
    "\n",
    "output_file(\"title.html\")\n",
    "\n",
    "show(p)"
   ]
  },
  {
   "cell_type": "code",
   "execution_count": 35,
   "metadata": {},
   "outputs": [],
   "source": [
    "from bokeh.plotting import figure, output_file, show\n",
    "\n",
    "p = figure(plot_width=300, plot_height=300)\n",
    "p.circle([1,2], [3,4])\n",
    "\n",
    "# configure visual properties on a plot's title attribute\n",
    "p.title.text = \"Title With Options\"\n",
    "p.title.align = \"right\"\n",
    "p.title.text_color = \"orange\"\n",
    "p.title.text_font_size = \"25px\"\n",
    "p.title.background_fill_color = \"#aaaaee\"\n",
    "\n",
    "output_file(\"title.html\")\n",
    "\n",
    "show(p)"
   ]
  },
  {
   "cell_type": "code",
   "execution_count": 36,
   "metadata": {},
   "outputs": [],
   "source": [
    "from bokeh.models import Title\n",
    "from bokeh.plotting import figure, output_file, show\n",
    "\n",
    "p = figure(title=\"Left Title\", title_location=\"left\",\n",
    "           plot_width=300, plot_height=300)\n",
    "p.circle([1,2], [3,4])\n",
    "\n",
    "# add extra titles with add_layout(...)\n",
    "p.add_layout(Title(text=\"Bottom Centered Title\", align=\"center\"), \"below\")\n",
    "\n",
    "output_file(\"title.html\")\n",
    "\n",
    "show(p)"
   ]
  },
  {
   "cell_type": "code",
   "execution_count": 37,
   "metadata": {},
   "outputs": [],
   "source": [
    "from bokeh.plotting import figure, output_file, show\n",
    "\n",
    "p = figure(title=\"Top Title with Toolbar\", toolbar_location=\"above\",\n",
    "           plot_width=600, plot_height=300)\n",
    "p.circle([1,2], [3,4])\n",
    "\n",
    "output_file(\"title.html\")\n",
    "\n",
    "show(p)"
   ]
  },
  {
   "cell_type": "markdown",
   "metadata": {},
   "source": [
    "## Legends\n",
    "### Basic Legend Label"
   ]
  },
  {
   "cell_type": "code",
   "execution_count": 38,
   "metadata": {},
   "outputs": [],
   "source": [
    "import numpy as np\n",
    "\n",
    "from bokeh.plotting import figure, output_file, show\n",
    "\n",
    "x = np.linspace(0, 4*np.pi, 100)\n",
    "y = np.sin(x)\n",
    "\n",
    "output_file(\"legend.html\")\n",
    "\n",
    "p = figure()\n",
    "\n",
    "p.circle(x, y, legend_label=\"sin(x)\")\n",
    "p.line(x, y, legend_label=\"sin(x)\")\n",
    "\n",
    "p.line(x, 2*y, legend_label=\"2*sin(x)\",\n",
    "       line_dash=[4, 4], line_color=\"orange\", line_width=2)\n",
    "\n",
    "p.square(x, 3*y, legend_label=\"3*sin(x)\", fill_color=None, line_color=\"green\")\n",
    "p.line(x, 3*y, legend_label=\"3*sin(x)\", line_color=\"green\")\n",
    "\n",
    "show(p)"
   ]
  },
  {
   "cell_type": "markdown",
   "metadata": {},
   "source": [
    "### Automatic Grouping"
   ]
  },
  {
   "cell_type": "code",
   "execution_count": 39,
   "metadata": {},
   "outputs": [],
   "source": [
    "from bokeh.io import show\n",
    "from bokeh.models import ColumnDataSource\n",
    "from bokeh.palettes import RdBu3\n",
    "from bokeh.plotting import figure\n",
    "\n",
    "c1 = RdBu3[2] # red\n",
    "c2 = RdBu3[0] # blue\n",
    "source = ColumnDataSource(dict(\n",
    "    x=[1, 2, 3, 4, 5, 6],\n",
    "    y=[2, 1, 2, 1, 2, 1],\n",
    "    color=[c1, c2, c1, c2, c1, c2],\n",
    "    label=['hi', 'lo', 'hi', 'lo', 'hi', 'lo']\n",
    "))\n",
    "\n",
    "p = figure(x_range=(0, 7), y_range=(0, 3), plot_height=300, tools='save')\n",
    "\n",
    "# legend field matches the column in the source\n",
    "p.circle( x='x', y='y', radius=0.5, color='color', legend_group='label', source=source)\n",
    "\n",
    "show(p)"
   ]
  },
  {
   "cell_type": "markdown",
   "metadata": {},
   "source": [
    "## Manual Legends\n",
    "### Explicit Index"
   ]
  },
  {
   "cell_type": "code",
   "execution_count": 40,
   "metadata": {},
   "outputs": [],
   "source": [
    "from bokeh.models import Legend, LegendItem\n",
    "from bokeh.plotting import figure, show\n",
    "\n",
    "p = figure()\n",
    "r = p.multi_line([[1,2,3], [1,2,3]], [[1,3,2], [3,4,3]],\n",
    "                 color=[\"orange\", \"red\"], line_width=4)\n",
    "\n",
    "legend = Legend(items=[\n",
    "    LegendItem(label=\"orange\", renderers=[r], index=0),\n",
    "    LegendItem(label=\"red\", renderers=[r], index=1),\n",
    "])\n",
    "p.add_layout(legend)\n",
    "\n",
    "show(p)"
   ]
  },
  {
   "cell_type": "markdown",
   "metadata": {},
   "source": [
    "### Interactive Legends"
   ]
  },
  {
   "cell_type": "markdown",
   "metadata": {},
   "source": [
    "### Arrows"
   ]
  },
  {
   "cell_type": "code",
   "execution_count": 41,
   "metadata": {},
   "outputs": [],
   "source": [
    "from bokeh.models import Arrow, NormalHead, OpenHead, VeeHead\n",
    "from bokeh.plotting import figure, output_file, show\n",
    "\n",
    "output_file(\"arrow.html\", title=\"arrow.py example\")\n",
    "\n",
    "p = figure(plot_width=600, plot_height=600)\n",
    "\n",
    "p.circle(x=[0, 1, 0.5], y=[0, 0, 0.7], radius=0.1,\n",
    "         color=[\"navy\", \"yellow\", \"red\"], fill_alpha=0.1)\n",
    "\n",
    "p.add_layout(Arrow(end=OpenHead(line_color=\"firebrick\", line_width=4),\n",
    "                   x_start=0, y_start=0, x_end=1, y_end=0))\n",
    "\n",
    "p.add_layout(Arrow(end=NormalHead(fill_color=\"orange\"),\n",
    "                   x_start=1, y_start=0, x_end=0.5, y_end=0.7))\n",
    "\n",
    "p.add_layout(Arrow(end=VeeHead(size=35), line_color=\"red\",\n",
    "                   x_start=0.5, y_start=0.7, x_end=0, y_end=0))\n",
    "\n",
    "show(p)"
   ]
  },
  {
   "cell_type": "markdown",
   "metadata": {},
   "source": [
    "### Bands"
   ]
  },
  {
   "cell_type": "code",
   "execution_count": 42,
   "metadata": {},
   "outputs": [],
   "source": [
    "import numpy as np\n",
    "import pandas as pd\n",
    "\n",
    "from bokeh.models import Band, ColumnDataSource\n",
    "from bokeh.plotting import figure, output_file, show\n",
    "\n",
    "output_file(\"band.html\", title=\"band.py example\")\n",
    "\n",
    "# Create some random data\n",
    "x = np.random.random(2500) * 140 - 20\n",
    "y = np.random.normal(size=2500) * 2 + 5\n",
    "\n",
    "df = pd.DataFrame(data=dict(x=x, y=y)).sort_values(by=\"x\")\n",
    "\n",
    "sem = lambda x: x.std() / np.sqrt(x.size)\n",
    "df2 = df.y.rolling(window=100).agg({\"y_mean\": np.mean, \"y_std\": np.std, \"y_sem\": sem})\n",
    "df2 = df2.fillna(method='bfill')\n",
    "\n",
    "df = pd.concat([df, df2], axis=1)\n",
    "df['lower'] = df.y_mean - df.y_std\n",
    "df['upper'] = df.y_mean + df.y_std\n",
    "\n",
    "source = ColumnDataSource(df.reset_index())\n",
    "\n",
    "TOOLS = \"pan,wheel_zoom,box_zoom,reset,save\"\n",
    "p = figure(tools=TOOLS)\n",
    "\n",
    "p.scatter(x='x', y='y', line_color=None, fill_alpha=0.3, size=5, source=source)\n",
    "\n",
    "band = Band(base='x', lower='lower', upper='upper', source=source, level='underlay',\n",
    "            fill_alpha=1.0, line_width=1, line_color='black')\n",
    "p.add_layout(band)\n",
    "\n",
    "p.title.text = \"Rolling Standard Deviation\"\n",
    "p.xgrid[0].grid_line_color=None\n",
    "p.ygrid[0].grid_line_alpha=0.5\n",
    "p.xaxis.axis_label = 'X'\n",
    "p.yaxis.axis_label = 'Y'\n",
    "\n",
    "show(p)"
   ]
  },
  {
   "cell_type": "markdown",
   "metadata": {},
   "source": [
    "### Labels"
   ]
  },
  {
   "cell_type": "code",
   "execution_count": 43,
   "metadata": {},
   "outputs": [],
   "source": [
    "from bokeh.models import ColumnDataSource, Label, LabelSet, Range1d\n",
    "from bokeh.plotting import figure, output_file, show\n",
    "\n",
    "output_file(\"label.html\", title=\"label.py example\")\n",
    "\n",
    "source = ColumnDataSource(data=dict(height=[66, 71, 72, 68, 58, 62],\n",
    "                                    weight=[165, 189, 220, 141, 260, 174],\n",
    "                                    names=['Mark', 'Amir', 'Matt', 'Greg',\n",
    "                                           'Owen', 'Juan']))\n",
    "\n",
    "p = figure(title='Dist. of 10th Grade Students at Lee High',\n",
    "           x_range=Range1d(140, 275))\n",
    "p.scatter(x='weight', y='height', size=8, source=source)\n",
    "p.xaxis[0].axis_label = 'Weight (lbs)'\n",
    "p.yaxis[0].axis_label = 'Height (in)'\n",
    "\n",
    "labels = LabelSet(x='weight', y='height', text='names', level='glyph',\n",
    "              x_offset=5, y_offset=5, source=source, render_mode='canvas')\n",
    "\n",
    "citation = Label(x=70, y=70, x_units='screen', y_units='screen',\n",
    "                 text='Collected by Luke C. 2016-04-01', render_mode='css',\n",
    "                 border_line_color='black', border_line_alpha=1.0,\n",
    "                 background_fill_color='white', background_fill_alpha=1.0)\n",
    "\n",
    "p.add_layout(labels)\n",
    "p.add_layout(citation)\n",
    "\n",
    "show(p)"
   ]
  },
  {
   "cell_type": "markdown",
   "metadata": {},
   "source": [
    "### Slopes"
   ]
  },
  {
   "cell_type": "code",
   "execution_count": 44,
   "metadata": {},
   "outputs": [],
   "source": [
    "import numpy as np\n",
    "\n",
    "from bokeh.models import Slope\n",
    "from bokeh.plotting import figure, output_file, show\n",
    "\n",
    "output_file(\"slope.html\", title=\"slope.py example\")\n",
    "\n",
    "# linear equation parameters\n",
    "gradient = 2\n",
    "y_intercept = 10\n",
    "\n",
    "# create random data\n",
    "xpts = np.arange(0, 20)\n",
    "ypts = gradient * xpts + y_intercept + np.random.normal(0, 4, 20)\n",
    "\n",
    "p = figure(plot_width=450, plot_height=450, y_range=(0, 1.1 * max(ypts)))\n",
    "\n",
    "p.circle(xpts, ypts, size=5, color=\"skyblue\")\n",
    "\n",
    "slope = Slope(gradient=gradient, y_intercept=y_intercept,\n",
    "              line_color='orange', line_dash='dashed', line_width=3.5)\n",
    "\n",
    "p.add_layout(slope)\n",
    "\n",
    "p.yaxis.axis_label = 'y'\n",
    "p.xaxis.axis_label = 'x'\n",
    "\n",
    "show(p)"
   ]
  },
  {
   "cell_type": "markdown",
   "metadata": {},
   "source": [
    "### Spans"
   ]
  },
  {
   "cell_type": "code",
   "execution_count": 45,
   "metadata": {},
   "outputs": [],
   "source": [
    "import time\n",
    "from datetime import datetime as dt\n",
    "\n",
    "from bokeh.models import Span\n",
    "from bokeh.plotting import figure, output_file, show\n",
    "from bokeh.sampledata.daylight import daylight_warsaw_2013\n",
    "\n",
    "output_file(\"span.html\", title=\"span.py example\")\n",
    "\n",
    "p = figure(x_axis_type=\"datetime\", y_axis_type=\"datetime\")\n",
    "\n",
    "p.line(daylight_warsaw_2013.Date, daylight_warsaw_2013.Sunset,\n",
    "       line_dash='solid', line_width=2, legend_label=\"Sunset\")\n",
    "p.line(daylight_warsaw_2013.Date, daylight_warsaw_2013.Sunrise,\n",
    "       line_dash='dotted', line_width=2, legend_label=\"Sunrise\")\n",
    "\n",
    "start_date = time.mktime(dt(2013, 3, 31, 2, 0, 0).timetuple())*1000\n",
    "daylight_savings_start = Span(location=start_date,\n",
    "                              dimension='height', line_color='green',\n",
    "                              line_dash='dashed', line_width=3)\n",
    "p.add_layout(daylight_savings_start)\n",
    "\n",
    "end_date = time.mktime(dt(2013, 10, 27, 3, 0, 0).timetuple())*1000\n",
    "daylight_savings_end = Span(location=end_date,\n",
    "                            dimension='height', line_color='red',\n",
    "                            line_dash='dashed', line_width=3)\n",
    "p.add_layout(daylight_savings_end)\n",
    "\n",
    "p.title.text = \"2013 Sunrise and Sunset times in Warsaw\"\n",
    "p.yaxis.axis_label = 'Time of Day'\n",
    "\n",
    "show(p)"
   ]
  },
  {
   "cell_type": "markdown",
   "metadata": {},
   "source": [
    "### Whiskers"
   ]
  },
  {
   "cell_type": "code",
   "execution_count": 27,
   "metadata": {},
   "outputs": [],
   "source": [
    "from bokeh.models import ColumnDataSource, Whisker\n",
    "from bokeh.plotting import figure, show\n",
    "from bokeh.sampledata.autompg import autompg as df\n",
    "\n",
    "colors = [\"red\", \"olive\", \"darkred\", \"goldenrod\", \"skyblue\", \"orange\", \"salmon\"]\n",
    "\n",
    "p = figure(plot_width=600, plot_height=300, title=\"Years vs mpg with Quartile Ranges\")\n",
    "\n",
    "base, lower, upper = [], [], []\n",
    "\n",
    "for i, year in enumerate(list(df.yr.unique())):\n",
    "    year_mpgs = df[df['yr'] == year]['mpg']\n",
    "    mpgs_mean = year_mpgs.mean()\n",
    "    mpgs_std = year_mpgs.std()\n",
    "    lower.append(mpgs_mean - mpgs_std)\n",
    "    upper.append(mpgs_mean + mpgs_std)\n",
    "    base.append(year)\n",
    "\n",
    "source_error = ColumnDataSource(data=dict(base=base, lower=lower, upper=upper))\n",
    "\n",
    "p.add_layout(\n",
    "    Whisker(source=source_error, base=\"base\", upper=\"upper\", lower=\"lower\")\n",
    ")\n",
    "\n",
    "for i, year in enumerate(list(df.yr.unique())):\n",
    "    y = df[df['yr'] == year]['mpg']\n",
    "    color = colors[i % len(colors)]\n",
    "    p.circle(x=year, y=y, color=color)\n",
    "\n",
    "show(p)"
   ]
  },
  {
   "cell_type": "code",
   "execution_count": null,
   "metadata": {},
   "outputs": [],
   "source": []
  }
 ],
 "metadata": {
  "kernelspec": {
   "display_name": "Python 3",
   "language": "python",
   "name": "python3"
  },
  "language_info": {
   "codemirror_mode": {
    "name": "ipython",
    "version": 3
   },
   "file_extension": ".py",
   "mimetype": "text/x-python",
   "name": "python",
   "nbconvert_exporter": "python",
   "pygments_lexer": "ipython3",
   "version": "3.8.5"
  }
 },
 "nbformat": 4,
 "nbformat_minor": 4
}
