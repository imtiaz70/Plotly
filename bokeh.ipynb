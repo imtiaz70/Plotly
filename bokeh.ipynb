{
 "cells": [
  {
   "cell_type": "markdown",
   "metadata": {},
   "source": [
    "# Bokeh"
   ]
  },
  {
   "cell_type": "code",
   "execution_count": 30,
   "metadata": {},
   "outputs": [],
   "source": [
    "from cmath import nan\n",
    "from ctypes import sizeof\n",
    "from turtle import color\n",
    "from bokeh.plotting import figure , output_file , show\n",
    "\n",
    "output_file('line.html')\n",
    "p = figure(plot_width = 400 , plot_height = 400)\n",
    "nana = float(nan)\n",
    "p.multi_line([[1,2,3],[6,7,nan,9,2]] , [[2,1,4],[4,7,8,5]] , color=['navy' , 'firebrick'] , alpha = [0.8 , 0.3], line_width=2 )\n",
    "\n",
    "show(p)"
   ]
  },
  {
   "cell_type": "code",
   "execution_count": 42,
   "metadata": {},
   "outputs": [],
   "source": [
    "\n",
    "from bokeh.models import ColumnDataSource\n",
    "from bokeh.plotting import figure, output_file, show\n",
    "\n",
    "output_file(\"vline_stack.html\")\n",
    "\n",
    "source = ColumnDataSource(data=dict(\n",
    "    y=[1, 2, 3, 4, 5],\n",
    "    x1=[1, 2, 4, 3, 4],\n",
    "    x2=[1, 4, 2, 2, 3],\n",
    "))\n",
    "p = figure(plot_width=400, plot_height=400)\n",
    "\n",
    "p.hbar_stack(['x1', 'x2'], y='y' , height = 0.8 , source=source , color=('navy' , 'firebrick'))\n",
    "\n",
    "show(p)"
   ]
  },
  {
   "cell_type": "code",
   "execution_count": 1,
   "metadata": {},
   "outputs": [],
   "source": [
    "\n",
    "import numpy as np\n",
    "\n",
    "from bokeh.io import output_file, show\n",
    "from bokeh.plotting import figure\n",
    "from bokeh.util.hex import axial_to_cartesian\n",
    "\n",
    "output_file(\"hex_coords.html\")\n",
    "\n",
    "q = np.array([0,  0, 0, -1, -1,  1, 1])\n",
    "r = np.array([0, -1, 1,  0,  1, -1, 0])\n",
    "\n",
    "p = figure(plot_width=400, plot_height=400, toolbar_location=None)\n",
    "\n",
    "\n",
    "p.hex_tile(q, r, size=1, fill_color=[\"firebrick\"]*3 + [\"navy\"]*4,\n",
    "           line_color=\"white\", alpha=0.5)\n",
    "\n",
    "x, y = axial_to_cartesian(q, r, 1, \"pointytop\")\n",
    "\n",
    "p.text(x, y, text=[\"(%d, %d)\" % (q,r) for (q, r) in zip(q, r)],\n",
    "       text_baseline=\"middle\", text_align=\"center\")\n",
    "\n",
    "show(p)"
   ]
  },
  {
   "cell_type": "code",
   "execution_count": 2,
   "metadata": {},
   "outputs": [],
   "source": [
    "\n",
    "from bokeh.plotting import figure, output_file, show\n",
    "\n",
    "output_file(\"patch.html\")\n",
    "\n",
    "p = figure(plot_width=400, plot_height=400)\n",
    "\n",
    "p.patches([[1, 3, 2], [3, 4, 6, 6]], [[2, 1, 4], [4, 7, 8, 5]],\n",
    "          color=[\"firebrick\", \"navy\"], alpha=[0.8, 0.3], line_width=2)\n",
    "\n",
    "show(p)"
   ]
  },
  {
   "cell_type": "code",
   "execution_count": 4,
   "metadata": {},
   "outputs": [],
   "source": [
    "\n",
    "from bokeh.plotting import figure, output_file, show\n",
    "\n",
    "output_file(\"varea.html\")\n",
    "\n",
    "p = figure(plot_width=400, plot_height=400)\n",
    "\n",
    "p.varea(x=[1, 2, 3, 4, 5],\n",
    "        y1=[2, 6, 4, 3, 5],\n",
    "        y2=[1, 4, 2, 2, 3])\n",
    "\n",
    "show(p)\n"
   ]
  },
  {
   "cell_type": "code",
   "execution_count": 5,
   "metadata": {},
   "outputs": [],
   "source": [
    "\n",
    "from bokeh.plotting import figure, output_file, show\n",
    "\n",
    "output_file(\"patch.html\")\n",
    "\n",
    "p = figure(plot_width=400, plot_height=400)\n",
    "\n",
    "# add a patch renderer with an alpha and line width\n",
    "p.patch([1, 2, 3, 4, 5], [6, 7, 8, 7, 3], alpha=0.5, line_width=2)\n",
    "\n",
    "show(p)\n",
    "\n"
   ]
  },
  {
   "cell_type": "code",
   "execution_count": 6,
   "metadata": {},
   "outputs": [],
   "source": [
    "\n",
    "from bokeh.plotting import figure, output_file, show\n",
    "\n",
    "output_file(\"patch.html\")\n",
    "\n",
    "p = figure(plot_width=400, plot_height=400)\n",
    "\n",
    "p.patches([[1, 3, 2], [3, 4, 6, 6]], [[2, 1, 4], [4, 7, 8, 5]],\n",
    "          color=[\"firebrick\", \"navy\"], alpha=[0.8, 0.3], line_width=2)\n",
    "\n",
    "show(p)\n",
    "\n"
   ]
  },
  {
   "cell_type": "code",
   "execution_count": 7,
   "metadata": {},
   "outputs": [],
   "source": [
    "\n",
    "from bokeh.plotting import figure, output_file, show\n",
    "\n",
    "output_file(\"patch.html\")\n",
    "\n",
    "p = figure(plot_width=400, plot_height=400)\n",
    "\n",
    "# add a patch renderer with a NaN value\n",
    "nan = float('nan')\n",
    "p.patch([1, 2, 3, nan, 4, 5, 6], [6, 7, 5, nan, 7, 3, 6], alpha=0.5, line_width=2)\n",
    "\n",
    "show(p)\n",
    "\n"
   ]
  },
  {
   "cell_type": "code",
   "execution_count": 8,
   "metadata": {},
   "outputs": [],
   "source": [
    "\n",
    "from bokeh.plotting import figure, output_file, show\n",
    "\n",
    "output_file('multipolygon_simple.html')\n",
    "\n",
    "p = figure(plot_width=400, plot_height=400)\n",
    "p.multi_polygons(xs=[[[[1, 1, 2, 2]]]],\n",
    "                 ys=[[[[3, 4, 4, 3]]]])\n",
    "\n",
    "show(p)\n"
   ]
  },
  {
   "cell_type": "code",
   "execution_count": 9,
   "metadata": {},
   "outputs": [],
   "source": [
    "\n",
    "from bokeh.io import output_file, show\n",
    "from bokeh.layouts import column\n",
    "from bokeh.plotting import figure\n",
    "\n",
    "output_file(\"layout.html\")\n",
    "\n",
    "x = list(range(11))\n",
    "y0 = x\n",
    "y1 = [10 - i for i in x]\n",
    "y2 = [abs(i - 5) for i in x]\n",
    "\n",
    "# create three plots\n",
    "s1 = figure(plot_width=250, plot_height=250, background_fill_color=\"#fafafa\")\n",
    "s1.circle(x, y0, size=12, color=\"#53777a\", alpha=0.8)\n",
    "\n",
    "s2 = figure(plot_width=250, plot_height=250, background_fill_color=\"#fafafa\")\n",
    "s2.triangle(x, y1, size=12, color=\"#c02942\", alpha=0.8)\n",
    "\n",
    "s3 = figure(plot_width=250, plot_height=250, background_fill_color=\"#fafafa\")\n",
    "s3.square(x, y2, size=12, color=\"#d95b43\", alpha=0.8)\n",
    "\n",
    "# put the results in a column and show\n",
    "show(column(s1, s2, s3))\n",
    "\n"
   ]
  },
  {
   "cell_type": "code",
   "execution_count": null,
   "metadata": {},
   "outputs": [],
   "source": [
    "    "
   ]
  }
 ],
 "metadata": {
  "kernelspec": {
   "display_name": "Python 3.10.5 64-bit",
   "language": "python",
   "name": "python3"
  },
  "language_info": {
   "codemirror_mode": {
    "name": "ipython",
    "version": 3
   },
   "file_extension": ".py",
   "mimetype": "text/x-python",
   "name": "python",
   "nbconvert_exporter": "python",
   "pygments_lexer": "ipython3",
   "version": "3.10.5"
  },
  "orig_nbformat": 4,
  "vscode": {
   "interpreter": {
    "hash": "aee8b7b246df8f9039afb4144a1f6fd8d2ca17a180786b69acc140d282b71a49"
   }
  }
 },
 "nbformat": 4,
 "nbformat_minor": 2
}
